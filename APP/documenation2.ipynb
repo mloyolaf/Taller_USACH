{
 "cells": [
  {
   "cell_type": "code",
   "execution_count": 18,
   "metadata": {},
   "outputs": [],
   "source": [
    "# Carga de librerias\n",
    "from langchain.document_loaders import PyPDFLoader\n",
    "from langchain.text_splitter import RecursiveCharacterTextSplitter\n",
    "import pandas as pd\n",
    "from langchain_community.embeddings import HuggingFaceEmbeddings"
   ]
  },
  {
   "cell_type": "code",
   "execution_count": 2,
   "metadata": {},
   "outputs": [],
   "source": [
    "# Carga del documento\n",
    "loader = PyPDFLoader(\"../APP/Documents/GCP.pdf\")\n",
    "document = loader.load()\n",
    "text_splitter = RecursiveCharacterTextSplitter(\n",
    "        chunk_size = 500,\n",
    "        length_function = len,\n",
    "        chunk_overlap=250\n",
    ")\n",
    "document = text_splitter.split_documents(document)"
   ]
  },
  {
   "cell_type": "code",
   "execution_count": 3,
   "metadata": {},
   "outputs": [
    {
     "data": {
      "text/plain": [
       "[Document(page_content='Visualizing\\nVergadia816324_ffirs.indd   1 25-02-2022   15:51:08', metadata={'source': '../APP/Documents/GCP.pdf', 'page': 2}),\n",
       " Document(page_content='Vergadia816324_ffirs.indd   2 25-02-2022   15:51:08', metadata={'source': '../APP/Documents/GCP.pdf', 'page': 3}),\n",
       " Document(page_content='Priyanka Vergadia\\nIllustrated References for \\nCloud Engineers & Architects101Visualizing\\nVergadia816324_ffirs.indd   3 25-02-2022   15:51:08', metadata={'source': '../APP/Documents/GCP.pdf', 'page': 4})]"
      ]
     },
     "execution_count": 3,
     "metadata": {},
     "output_type": "execute_result"
    }
   ],
   "source": [
    "document[:3]"
   ]
  },
  {
   "cell_type": "code",
   "execution_count": 4,
   "metadata": {},
   "outputs": [],
   "source": [
    "def dataframe_documentation(documents:list):\n",
    "    data = pd.DataFrame()\n",
    "    page_content = []\n",
    "    metadata = []\n",
    "    for line in range(len(documents)):\n",
    "        page_content.append(documents[line].page_content)\n",
    "        metadata.append(documents[line].metadata)\n",
    "    data[\"page_content\"] = page_content\n",
    "    data[\"metadata\"] = metadata\n",
    "    return data"
   ]
  },
  {
   "cell_type": "code",
   "execution_count": 8,
   "metadata": {},
   "outputs": [
    {
     "data": {
      "text/html": [
       "<div>\n",
       "<style scoped>\n",
       "    .dataframe tbody tr th:only-of-type {\n",
       "        vertical-align: middle;\n",
       "    }\n",
       "\n",
       "    .dataframe tbody tr th {\n",
       "        vertical-align: top;\n",
       "    }\n",
       "\n",
       "    .dataframe thead th {\n",
       "        text-align: right;\n",
       "    }\n",
       "</style>\n",
       "<table border=\"1\" class=\"dataframe\">\n",
       "  <thead>\n",
       "    <tr style=\"text-align: right;\">\n",
       "      <th></th>\n",
       "      <th>page_content</th>\n",
       "      <th>metadata</th>\n",
       "    </tr>\n",
       "  </thead>\n",
       "  <tbody>\n",
       "    <tr>\n",
       "      <th>1764</th>\n",
       "      <td>activities and accesses within your Google Clo...</td>\n",
       "      <td>{'source': '../APP/Documents/GCP.pdf', 'page':...</td>\n",
       "    </tr>\n",
       "    <tr>\n",
       "      <th>1765</th>\n",
       "      <td>native network threat detection from malware, ...</td>\n",
       "      <td>{'source': '../APP/Documents/GCP.pdf', 'page':...</td>\n",
       "    </tr>\n",
       "    <tr>\n",
       "      <th>1766</th>\n",
       "      <td>WILEY END USER LICENSE AGREEMENT\\nGo to www.wi...</td>\n",
       "      <td>{'source': '../APP/Documents/GCP.pdf', 'page':...</td>\n",
       "    </tr>\n",
       "  </tbody>\n",
       "</table>\n",
       "</div>"
      ],
      "text/plain": [
       "                                           page_content  \\\n",
       "1764  activities and accesses within your Google Clo...   \n",
       "1765  native network threat detection from malware, ...   \n",
       "1766  WILEY END USER LICENSE AGREEMENT\\nGo to www.wi...   \n",
       "\n",
       "                                               metadata  \n",
       "1764  {'source': '../APP/Documents/GCP.pdf', 'page':...  \n",
       "1765  {'source': '../APP/Documents/GCP.pdf', 'page':...  \n",
       "1766  {'source': '../APP/Documents/GCP.pdf', 'page':...  "
      ]
     },
     "execution_count": 8,
     "metadata": {},
     "output_type": "execute_result"
    }
   ],
   "source": [
    "pages = dataframe_documentation(document)\n",
    "pages.tail(3)"
   ]
  },
  {
   "cell_type": "code",
   "execution_count": 19,
   "metadata": {},
   "outputs": [
    {
     "name": "stderr",
     "output_type": "stream",
     "text": [
      "c:\\Users\\mloyolaf\\OneDrive - NTT DATA EMEAL\\Escritorio\\Ignacia\\Charlas\\Taller USACH\\Proyecto2\\venv\\Lib\\site-packages\\huggingface_hub\\file_download.py:149: UserWarning: `huggingface_hub` cache-system uses symlinks by default to efficiently store duplicated files but your machine does not support them in C:\\Users\\mloyolaf\\.cache\\huggingface\\hub\\models--sentence-transformers--all-MiniLM-L6-v2. Caching files will still work but in a degraded version that might require more space on your disk. This warning can be disabled by setting the `HF_HUB_DISABLE_SYMLINKS_WARNING` environment variable. For more details, see https://huggingface.co/docs/huggingface_hub/how-to-cache#limitations.\n",
      "To support symlinks on Windows, you either need to activate Developer Mode or to run Python as an administrator. In order to see activate developer mode, see this article: https://docs.microsoft.com/en-us/windows/apps/get-started/enable-your-device-for-development\n",
      "  warnings.warn(message)\n"
     ]
    }
   ],
   "source": [
    "embeddings = HuggingFaceEmbeddings(model_name=\"all-MiniLM-L6-v2\")"
   ]
  },
  {
   "cell_type": "code",
   "execution_count": 20,
   "metadata": {},
   "outputs": [],
   "source": [
    "pages[\"embeddings\"] = pages[\"page_content\"].apply(lambda x: embeddings.embed_query(x))"
   ]
  },
  {
   "cell_type": "code",
   "execution_count": 22,
   "metadata": {},
   "outputs": [],
   "source": [
    "pages.to_pickle(\"../APP/Documents/documentation.pickle\")"
   ]
  },
  {
   "cell_type": "code",
   "execution_count": null,
   "metadata": {},
   "outputs": [],
   "source": []
  }
 ],
 "metadata": {
  "kernelspec": {
   "display_name": "venv",
   "language": "python",
   "name": "python3"
  },
  "language_info": {
   "codemirror_mode": {
    "name": "ipython",
    "version": 3
   },
   "file_extension": ".py",
   "mimetype": "text/x-python",
   "name": "python",
   "nbconvert_exporter": "python",
   "pygments_lexer": "ipython3",
   "version": "3.12.1"
  }
 },
 "nbformat": 4,
 "nbformat_minor": 2
}
