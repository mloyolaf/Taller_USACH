{
 "cells": [
  {
   "cell_type": "code",
   "execution_count": 17,
   "metadata": {},
   "outputs": [],
   "source": [
    "# Carga de librerias\n",
    "import os\n",
    "import pandas as pd\n",
    "import numpy as np\n",
    "from langchain_community.embeddings import HuggingFaceEmbeddings\n",
    "from langchain.prompts import PromptTemplate\n",
    "from langchain.chains import LLMChain\n",
    "from langchain.chat_models import ChatOpenAI\n",
    "from dotenv import load_dotenv\n"
   ]
  },
  {
   "cell_type": "code",
   "execution_count": 18,
   "metadata": {},
   "outputs": [],
   "source": [
    "load_dotenv()\n",
    "api_key = os.getenv('OPENAI_API_KEY')"
   ]
  },
  {
   "cell_type": "code",
   "execution_count": 7,
   "metadata": {},
   "outputs": [],
   "source": [
    "embeddings = HuggingFaceEmbeddings(model_name=\"all-MiniLM-L6-v2\")"
   ]
  },
  {
   "cell_type": "code",
   "execution_count": 4,
   "metadata": {},
   "outputs": [
    {
     "data": {
      "text/html": [
       "<div>\n",
       "<style scoped>\n",
       "    .dataframe tbody tr th:only-of-type {\n",
       "        vertical-align: middle;\n",
       "    }\n",
       "\n",
       "    .dataframe tbody tr th {\n",
       "        vertical-align: top;\n",
       "    }\n",
       "\n",
       "    .dataframe thead th {\n",
       "        text-align: right;\n",
       "    }\n",
       "</style>\n",
       "<table border=\"1\" class=\"dataframe\">\n",
       "  <thead>\n",
       "    <tr style=\"text-align: right;\">\n",
       "      <th></th>\n",
       "      <th>page_content</th>\n",
       "      <th>metadata</th>\n",
       "      <th>embeddings</th>\n",
       "    </tr>\n",
       "  </thead>\n",
       "  <tbody>\n",
       "    <tr>\n",
       "      <th>0</th>\n",
       "      <td>Visualizing\\nVergadia816324_ffirs.indd   1 25-...</td>\n",
       "      <td>{'source': '../APP/Documents/GCP.pdf', 'page': 2}</td>\n",
       "      <td>[0.017832092940807343, 0.02583819441497326, -0...</td>\n",
       "    </tr>\n",
       "    <tr>\n",
       "      <th>1</th>\n",
       "      <td>Vergadia816324_ffirs.indd   2 25-02-2022   15:...</td>\n",
       "      <td>{'source': '../APP/Documents/GCP.pdf', 'page': 3}</td>\n",
       "      <td>[-0.03665415197610855, 0.039491377770900726, -...</td>\n",
       "    </tr>\n",
       "    <tr>\n",
       "      <th>2</th>\n",
       "      <td>Priyanka Vergadia\\nIllustrated References for ...</td>\n",
       "      <td>{'source': '../APP/Documents/GCP.pdf', 'page': 4}</td>\n",
       "      <td>[-0.01771504618227482, 0.07079385221004486, -0...</td>\n",
       "    </tr>\n",
       "  </tbody>\n",
       "</table>\n",
       "</div>"
      ],
      "text/plain": [
       "                                        page_content  \\\n",
       "0  Visualizing\\nVergadia816324_ffirs.indd   1 25-...   \n",
       "1  Vergadia816324_ffirs.indd   2 25-02-2022   15:...   \n",
       "2  Priyanka Vergadia\\nIllustrated References for ...   \n",
       "\n",
       "                                            metadata  \\\n",
       "0  {'source': '../APP/Documents/GCP.pdf', 'page': 2}   \n",
       "1  {'source': '../APP/Documents/GCP.pdf', 'page': 3}   \n",
       "2  {'source': '../APP/Documents/GCP.pdf', 'page': 4}   \n",
       "\n",
       "                                          embeddings  \n",
       "0  [0.017832092940807343, 0.02583819441497326, -0...  \n",
       "1  [-0.03665415197610855, 0.039491377770900726, -...  \n",
       "2  [-0.01771504618227482, 0.07079385221004486, -0...  "
      ]
     },
     "execution_count": 4,
     "metadata": {},
     "output_type": "execute_result"
    }
   ],
   "source": [
    "# Carga de la documentación\n",
    "documentation = pd.read_pickle(\"../APP/Documents/documentation.pickle\")\n",
    "documentation.head(3)"
   ]
  },
  {
   "cell_type": "code",
   "execution_count": 8,
   "metadata": {},
   "outputs": [],
   "source": [
    "# Pregunta de usuario\n",
    "def question_user(q:str, embeddings=embeddings):\n",
    "  data_question = pd.DataFrame()\n",
    "  emb = []\n",
    "  q_list = []\n",
    "  emb.append(embeddings.embed_query(q))\n",
    "  q_list.append(q)\n",
    "  data_question[\"pregunta\"] = q_list\n",
    "  data_question[\"embedding_pregunta\"] = emb\n",
    "  return data_question"
   ]
  },
  {
   "cell_type": "code",
   "execution_count": 28,
   "metadata": {},
   "outputs": [
    {
     "data": {
      "text/html": [
       "<div>\n",
       "<style scoped>\n",
       "    .dataframe tbody tr th:only-of-type {\n",
       "        vertical-align: middle;\n",
       "    }\n",
       "\n",
       "    .dataframe tbody tr th {\n",
       "        vertical-align: top;\n",
       "    }\n",
       "\n",
       "    .dataframe thead th {\n",
       "        text-align: right;\n",
       "    }\n",
       "</style>\n",
       "<table border=\"1\" class=\"dataframe\">\n",
       "  <thead>\n",
       "    <tr style=\"text-align: right;\">\n",
       "      <th></th>\n",
       "      <th>pregunta</th>\n",
       "      <th>embedding_pregunta</th>\n",
       "    </tr>\n",
       "  </thead>\n",
       "  <tbody>\n",
       "    <tr>\n",
       "      <th>0</th>\n",
       "      <td>Que es Cloud Storage?</td>\n",
       "      <td>[-0.00723279919475317, 0.024123195558786392, -...</td>\n",
       "    </tr>\n",
       "  </tbody>\n",
       "</table>\n",
       "</div>"
      ],
      "text/plain": [
       "                pregunta                                 embedding_pregunta\n",
       "0  Que es Cloud Storage?  [-0.00723279919475317, 0.024123195558786392, -..."
      ]
     },
     "execution_count": 28,
     "metadata": {},
     "output_type": "execute_result"
    }
   ],
   "source": [
    "p = \"Que es Cloud Storage?\"\n",
    "data_p = question_user(p)\n",
    "data_p"
   ]
  },
  {
   "cell_type": "code",
   "execution_count": 9,
   "metadata": {},
   "outputs": [],
   "source": [
    "def distance_vector(x, y):\n",
    "    return np.dot(np.array(x), np.array(y))"
   ]
  },
  {
   "cell_type": "code",
   "execution_count": 29,
   "metadata": {},
   "outputs": [],
   "source": [
    "documentation[\"distance\"] = documentation[\"embeddings\"].apply(lambda x: distance_vector(data_p.iloc[0,-1],x))"
   ]
  },
  {
   "cell_type": "code",
   "execution_count": 31,
   "metadata": {},
   "outputs": [
    {
     "data": {
      "text/html": [
       "<div>\n",
       "<style scoped>\n",
       "    .dataframe tbody tr th:only-of-type {\n",
       "        vertical-align: middle;\n",
       "    }\n",
       "\n",
       "    .dataframe tbody tr th {\n",
       "        vertical-align: top;\n",
       "    }\n",
       "\n",
       "    .dataframe thead th {\n",
       "        text-align: right;\n",
       "    }\n",
       "</style>\n",
       "<table border=\"1\" class=\"dataframe\">\n",
       "  <thead>\n",
       "    <tr style=\"text-align: right;\">\n",
       "      <th></th>\n",
       "      <th>page_content</th>\n",
       "      <th>metadata</th>\n",
       "      <th>embeddings</th>\n",
       "      <th>distance</th>\n",
       "    </tr>\n",
       "  </thead>\n",
       "  <tbody>\n",
       "    <tr>\n",
       "      <th>678</th>\n",
       "      <td>• BigQuery is a serverless data warehouse that...</td>\n",
       "      <td>{'source': '../APP/Documents/GCP.pdf', 'page':...</td>\n",
       "      <td>[0.06403540074825287, 0.06960034370422363, -0....</td>\n",
       "      <td>0.337325</td>\n",
       "    </tr>\n",
       "    <tr>\n",
       "      <th>554</th>\n",
       "      <td>of data analysts. It allows data analysts or d...</td>\n",
       "      <td>{'source': '../APP/Documents/GCP.pdf', 'page':...</td>\n",
       "      <td>[-0.007997865788638592, 0.10090051591396332, -...</td>\n",
       "      <td>0.308750</td>\n",
       "    </tr>\n",
       "    <tr>\n",
       "      <th>562</th>\n",
       "      <td>of data analysts. It allows data analysts or d...</td>\n",
       "      <td>{'source': '../APP/Documents/GCP.pdf', 'page':...</td>\n",
       "      <td>[-0.007997865788638592, 0.10090051591396332, -...</td>\n",
       "      <td>0.308750</td>\n",
       "    </tr>\n",
       "  </tbody>\n",
       "</table>\n",
       "</div>"
      ],
      "text/plain": [
       "                                          page_content  \\\n",
       "678  • BigQuery is a serverless data warehouse that...   \n",
       "554  of data analysts. It allows data analysts or d...   \n",
       "562  of data analysts. It allows data analysts or d...   \n",
       "\n",
       "                                              metadata  \\\n",
       "678  {'source': '../APP/Documents/GCP.pdf', 'page':...   \n",
       "554  {'source': '../APP/Documents/GCP.pdf', 'page':...   \n",
       "562  {'source': '../APP/Documents/GCP.pdf', 'page':...   \n",
       "\n",
       "                                            embeddings  distance  \n",
       "678  [0.06403540074825287, 0.06960034370422363, -0....  0.337325  \n",
       "554  [-0.007997865788638592, 0.10090051591396332, -...  0.308750  \n",
       "562  [-0.007997865788638592, 0.10090051591396332, -...  0.308750  "
      ]
     },
     "execution_count": 31,
     "metadata": {},
     "output_type": "execute_result"
    }
   ],
   "source": [
    "documentation.head(3)"
   ]
  },
  {
   "cell_type": "code",
   "execution_count": 32,
   "metadata": {},
   "outputs": [],
   "source": [
    "documentation.sort_values(by=\"distance\",ascending=False,inplace=True)"
   ]
  },
  {
   "cell_type": "code",
   "execution_count": 33,
   "metadata": {},
   "outputs": [
    {
     "data": {
      "text/html": [
       "<div>\n",
       "<style scoped>\n",
       "    .dataframe tbody tr th:only-of-type {\n",
       "        vertical-align: middle;\n",
       "    }\n",
       "\n",
       "    .dataframe tbody tr th {\n",
       "        vertical-align: top;\n",
       "    }\n",
       "\n",
       "    .dataframe thead th {\n",
       "        text-align: right;\n",
       "    }\n",
       "</style>\n",
       "<table border=\"1\" class=\"dataframe\">\n",
       "  <thead>\n",
       "    <tr style=\"text-align: right;\">\n",
       "      <th></th>\n",
       "      <th>page_content</th>\n",
       "      <th>metadata</th>\n",
       "      <th>embeddings</th>\n",
       "      <th>distance</th>\n",
       "    </tr>\n",
       "  </thead>\n",
       "  <tbody>\n",
       "    <tr>\n",
       "      <th>227</th>\n",
       "      <td>Storage 31\\nFundamental characteristics of an ...</td>\n",
       "      <td>{'source': '../APP/Documents/GCP.pdf', 'page':...</td>\n",
       "      <td>[-0.0017023786203935742, 0.010072107426822186,...</td>\n",
       "      <td>0.607445</td>\n",
       "    </tr>\n",
       "    <tr>\n",
       "      <th>230</th>\n",
       "      <td>You can use cloud storage to store and serve s...</td>\n",
       "      <td>{'source': '../APP/Documents/GCP.pdf', 'page':...</td>\n",
       "      <td>[-0.05700237303972244, -0.009095263667404652, ...</td>\n",
       "      <td>0.595455</td>\n",
       "    </tr>\n",
       "    <tr>\n",
       "      <th>229</th>\n",
       "      <td>continuity requirements.• Data lakes  —  You c...</td>\n",
       "      <td>{'source': '../APP/Documents/GCP.pdf', 'page':...</td>\n",
       "      <td>[-0.013028450310230255, 0.012346569448709488, ...</td>\n",
       "      <td>0.586917</td>\n",
       "    </tr>\n",
       "  </tbody>\n",
       "</table>\n",
       "</div>"
      ],
      "text/plain": [
       "                                          page_content  \\\n",
       "227  Storage 31\\nFundamental characteristics of an ...   \n",
       "230  You can use cloud storage to store and serve s...   \n",
       "229  continuity requirements.• Data lakes  —  You c...   \n",
       "\n",
       "                                              metadata  \\\n",
       "227  {'source': '../APP/Documents/GCP.pdf', 'page':...   \n",
       "230  {'source': '../APP/Documents/GCP.pdf', 'page':...   \n",
       "229  {'source': '../APP/Documents/GCP.pdf', 'page':...   \n",
       "\n",
       "                                            embeddings  distance  \n",
       "227  [-0.0017023786203935742, 0.010072107426822186,...  0.607445  \n",
       "230  [-0.05700237303972244, -0.009095263667404652, ...  0.595455  \n",
       "229  [-0.013028450310230255, 0.012346569448709488, ...  0.586917  "
      ]
     },
     "execution_count": 33,
     "metadata": {},
     "output_type": "execute_result"
    }
   ],
   "source": [
    "documentation.head(3)"
   ]
  },
  {
   "cell_type": "code",
   "execution_count": 34,
   "metadata": {},
   "outputs": [],
   "source": [
    "response = documentation.head(10)"
   ]
  },
  {
   "cell_type": "code",
   "execution_count": 24,
   "metadata": {},
   "outputs": [],
   "source": [
    "template = \"\"\"\n",
    "Eres Laia, una asistente virtual que recibe la siguiente pregunta: {question}\n",
    "y tienes la siguiente información para responder: {context}.\n",
    "Limitate a responder solamente con la información que recibes.\n",
    "Responde de forma muy completa.\n",
    "\"\"\"\n",
    "prompt = PromptTemplate(\n",
    "        input_variables=[\"question\",\"context\"],template=template\n",
    ")"
   ]
  },
  {
   "cell_type": "code",
   "execution_count": 25,
   "metadata": {},
   "outputs": [],
   "source": [
    "model = ChatOpenAI(temperature=0.0,\n",
    "                   model_name = 'gpt-3.5-turbo-16k',\n",
    "                   api_key=api_key)"
   ]
  },
  {
   "cell_type": "code",
   "execution_count": 26,
   "metadata": {},
   "outputs": [],
   "source": [
    "llm = LLMChain(llm = model,prompt=prompt)"
   ]
  },
  {
   "cell_type": "code",
   "execution_count": 35,
   "metadata": {},
   "outputs": [
    {
     "data": {
      "text/plain": [
       "'El Cloud Storage es un servicio de almacenamiento en la nube que permite a los usuarios almacenar y acceder a sus datos de forma remota a través de Internet. Este servicio proporciona una forma segura y escalable de almacenar y respaldar datos, eliminando la necesidad de tener servidores físicos en el lugar.\\n\\nEl Cloud Storage utiliza la infraestructura de la nube para almacenar los datos de los usuarios en múltiples ubicaciones geográficas, lo que garantiza la disponibilidad y durabilidad de los datos. Los usuarios pueden acceder a sus datos desde cualquier dispositivo con conexión a Internet, lo que facilita el acceso y la colaboración en tiempo real.\\n\\nAdemás, el Cloud Storage ofrece características avanzadas como la capacidad de almacenar y recuperar grandes volúmenes de datos, la posibilidad de compartir archivos y carpetas con otros usuarios, y la opción de configurar políticas de retención y eliminación automática de datos.\\n\\nEn resumen, el Cloud Storage es un servicio de almacenamiento en la nube que permite a los usuarios almacenar, acceder y gestionar sus datos de forma remota a través de Internet, proporcionando una solución segura, escalable y flexible para el almacenamiento de datos.'"
      ]
     },
     "execution_count": 35,
     "metadata": {},
     "output_type": "execute_result"
    }
   ],
   "source": [
    "llm.run(question=p,context=response.iloc[:,1])"
   ]
  },
  {
   "cell_type": "code",
   "execution_count": null,
   "metadata": {},
   "outputs": [],
   "source": []
  }
 ],
 "metadata": {
  "kernelspec": {
   "display_name": "venv",
   "language": "python",
   "name": "python3"
  },
  "language_info": {
   "codemirror_mode": {
    "name": "ipython",
    "version": 3
   },
   "file_extension": ".py",
   "mimetype": "text/x-python",
   "name": "python",
   "nbconvert_exporter": "python",
   "pygments_lexer": "ipython3",
   "version": "3.12.1"
  }
 },
 "nbformat": 4,
 "nbformat_minor": 2
}
